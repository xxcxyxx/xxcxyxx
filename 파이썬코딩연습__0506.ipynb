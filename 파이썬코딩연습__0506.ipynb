{
  "nbformat": 4,
  "nbformat_minor": 0,
  "metadata": {
    "colab": {
      "name": "\b수업 코드 총정리_0506",
      "provenance": [],
      "collapsed_sections": [],
      "authorship_tag": "ABX9TyPaLZgR/cSR4QxQFyTmUm2g",
      "include_colab_link": true
    },
    "kernelspec": {
      "name": "python3",
      "display_name": "Python 3"
    },
    "language_info": {
      "name": "python"
    }
  },
  "cells": [
    {
      "cell_type": "markdown",
      "metadata": {
        "id": "view-in-github",
        "colab_type": "text"
      },
      "source": [
        "<a href=\"https://colab.research.google.com/github/xxcxyxx/xxcxyxx/blob/main/%ED%8C%8C%EC%9D%B4%EC%8D%AC%EC%BD%94%EB%94%A9%EC%97%B0%EC%8A%B5__0506.ipynb\" target=\"_parent\"><img src=\"https://colab.research.google.com/assets/colab-badge.svg\" alt=\"Open In Colab\"/></a>"
      ]
    },
    {
      "cell_type": "code",
      "execution_count": null,
      "metadata": {
        "id": "WWS_9ssyYcR8"
      },
      "outputs": [],
      "source": [
        ""
      ]
    },
    {
      "cell_type": "markdown",
      "source": [
        "### 소프트웨어적 사고 화_과제2"
      ],
      "metadata": {
        "id": "j5TehkvXYg4q"
      }
    },
    {
      "cell_type": "code",
      "source": [
        "# 문제1\n",
        "# 주사위 두 개의 합이 주어진 수(n)의 배수인 경우의 수를 모두 출력하시오\n",
        "n=5\n",
        "\n",
        "#=== 코드 작성 시작\n",
        "for ii in range(1,7):\n",
        "    for jj in range(1,7):\n",
        "        if (ii+jj)%n==0:\n",
        "            print(ii, jj)\n",
        "#=== 코드 작성 끝\n",
        "            \n",
        "## 실행 결과\n",
        "# 1 4\n",
        "# 2 3\n",
        "# 3 2\n",
        "# 4 1\n",
        "# 4 6\n",
        "# 5 5\n",
        "# 6 4"
      ],
      "metadata": {
        "colab": {
          "base_uri": "https://localhost:8080/"
        },
        "id": "-44LMFAnYjyi",
        "outputId": "dddaaadb-25b3-40a3-adf5-564139294f94"
      },
      "execution_count": 1,
      "outputs": [
        {
          "output_type": "stream",
          "name": "stdout",
          "text": [
            "1 4\n",
            "2 3\n",
            "3 2\n",
            "4 1\n",
            "4 6\n",
            "5 5\n",
            "6 4\n"
          ]
        }
      ]
    },
    {
      "cell_type": "code",
      "source": [
        "## 문제2\n",
        "# 0~30 사이에서 랜덤하게 생성되는 정수 맞추기\n",
        "# 1. 0~30 사이에서 랜덤정수(v1)를 생성한다.\n",
        "# 2. 숫자하나 (v2)를 입력받는다\n",
        "#    - v1보다 v2가 크면, down 출력\n",
        "#    - v1보다 v2가 작으면, up 출력\n",
        "# 3. 숫자를 맞추면 프로그램 종료\n",
        "\n",
        "# 랜덤 숫자 생성하기 (수행할 때 마다 숫자가 바뀜)\n",
        "from random import randint\n",
        "v1=randint(0,30)\n",
        "print(\"## 랜덤 생성 숫자:\", v1)\n",
        "\n",
        "#=== 코드 작성 시작\n",
        "while(1):\n",
        "    v2=int(input(\"숫자 입력(0~30)\"))\n",
        "    if v1==v2:\n",
        "        print(\"맞췄습니다. 축하합니다!. 프로그램 종료\")\n",
        "        break\n",
        "    elif v1<v2:\n",
        "        print(\"Down!\")\n",
        "    else:\n",
        "        print(\"Up!\")\n",
        "#=== 코드 작성 끝\n",
        "\n",
        "# 힌트: while(1)로 무한루프를 돌리는 가운데, 숫자를 맞추면 break로 빠져나간다.\n",
        "\n",
        "## 실행결과\n",
        "# ## 랜덤 생성 숫자: 15\n",
        "# 숫자 입력(0~30)10\n",
        "# Up!\n",
        "# 숫자 입력(0~30)20\n",
        "# Down!\n",
        "# 숫자 입력(0~30)16\n",
        "# Down!\n",
        "# 숫자 입력(0~30)14\n",
        "# Up!\n",
        "# 숫자 입력(0~30)15\n",
        "# 맞췄습니다. 축하합니다!. 프로그램 종료6"
      ],
      "metadata": {
        "colab": {
          "base_uri": "https://localhost:8080/"
        },
        "id": "TeGMXBytYmyn",
        "outputId": "213236ec-fa30-44cb-c6c0-52d36c2de192"
      },
      "execution_count": 3,
      "outputs": [
        {
          "output_type": "stream",
          "name": "stdout",
          "text": [
            "## 랜덤 생성 숫자: 9\n",
            "숫자 입력(0~30)10\n",
            "숫자 입력(0~30)5\n",
            "Down!\n",
            "Up!\n",
            "숫자 입력(0~30)9\n",
            "맞췄습니다. 축하합니다!. 프로그램 종료\n"
          ]
        }
      ]
    },
    {
      "cell_type": "code",
      "source": [
        "## 문제3\n",
        "#마트에서 물건을 사면 남은 금액을 알려주는 프로그램이다.\n",
        "# 물건을 입력받으면 현재금액에서 물건가격을 빼서 남은 금액을 계산한다.(물건의 가격은 사전으로 주어진다.)\n",
        "# 현금이 부족할 때 이 프로그램은 종료된다.\n",
        "# 물건을 구입할 때마다, 현재 가격과 이제까지 구입한 물건을 알려준다\n",
        "\n",
        "## 현재금액\n",
        "pres_money=5000 \n",
        "## 물건가격\n",
        "goods_price = {'사과':1500, '계란':2000,'고등어':3300, '갈비':4000}\n",
        "goods_list=[]\n",
        "\n",
        "#=== 코드 작성 시작\n",
        "while(1):\n",
        "  good=input(\"====원하는 물건을 입력하시오 (사과,계란,고등어,갈비 중 ):\")\n",
        "  if (pres_money-goods_price[good])<0:\n",
        "    print(\"##### 잔액이 부족합니다. 살 수 없습니다. 종료합니다.\")\n",
        "    break\n",
        "\n",
        "  goods_list.append(good)\n",
        "  pres_money-=goods_price[good]\n",
        "  print(\"## 현재 잔액:\",pres_money)\n",
        "  print(\"##구입물건\",goods_list)\n",
        "\n",
        "#=== 코드 작성 끝\n",
        "print('## 최종잔액:', pres_money)\n",
        "print('## 최종구입물건:', goods_list)\n",
        "\n",
        "## 실행결과\n",
        "# ==== 원하는 물건을 입력하시오(사과,계란,고등어,갈비 중):사과\n",
        "# # 현재잔액: 3500\n",
        "# # 구입물건: ['사과']\n",
        "# ==== 원하는 물건을 입력하시오(사과,계란,고등어,갈비 중):계란\n",
        "# # 현재잔액: 1500\n",
        "# # 구입물건: ['사과', '계란']\n",
        "# ==== 원하는 물건을 입력하시오(사과,계란,고등어,갈비 중):사과\n",
        "# # 현재잔액: 0\n",
        "# # 구입물건: ['사과', '계란', '사과']\n",
        "# ==== 원하는 물건을 입력하시오(사과,계란,고등어,갈비 중):사과\n",
        "# ##### 잔액이 부족합니다. 살 수 없습니다. 종료합니다.\n",
        "# ## 최종잔액: 0\n",
        "# ## 최종구입물건: ['사과', '계란', '사과'] "
      ],
      "metadata": {
        "colab": {
          "base_uri": "https://localhost:8080/"
        },
        "id": "_NZerkpKYpyH",
        "outputId": "28301d13-e90a-491b-da78-6b568899966f"
      },
      "execution_count": 4,
      "outputs": [
        {
          "output_type": "stream",
          "name": "stdout",
          "text": [
            "====원하는 물건을 입력하시오 (사과,계란,고등어,갈비 중 ):갈비\n",
            "## 현재 잔액: 1000\n",
            "##구입물건 ['갈비']\n",
            "====원하는 물건을 입력하시오 (사과,계란,고등어,갈비 중 ):고등어\n",
            "##### 잔액이 부족합니다. 살 수 없습니다. 종료합니다.\n",
            "## 최종잔액: 1000\n",
            "## 최종구입물건: ['갈비']\n"
          ]
        }
      ]
    },
    {
      "cell_type": "code",
      "source": [
        "고"
      ],
      "metadata": {
        "id": "YpJElpwOY9nm"
      },
      "execution_count": null,
      "outputs": []
    }
  ]
}